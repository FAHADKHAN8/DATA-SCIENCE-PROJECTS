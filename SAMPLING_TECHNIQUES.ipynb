{
  "nbformat": 4,
  "nbformat_minor": 0,
  "metadata": {
    "colab": {
      "provenance": [],
      "authorship_tag": "ABX9TyMzC+6Zo2Ee3zscteu8fXgE",
      "include_colab_link": true
    },
    "kernelspec": {
      "name": "python3",
      "display_name": "Python 3"
    },
    "language_info": {
      "name": "python"
    }
  },
  "cells": [
    {
      "cell_type": "markdown",
      "metadata": {
        "id": "view-in-github",
        "colab_type": "text"
      },
      "source": [
        "<a href=\"https://colab.research.google.com/github/FAHADKHAN8/DATA-SCIENCE-PROJECTS/blob/main/SAMPLING_TECHNIQUES.ipynb\" target=\"_parent\"><img src=\"https://colab.research.google.com/assets/colab-badge.svg\" alt=\"Open In Colab\"/></a>"
      ]
    },
    {
      "cell_type": "markdown",
      "source": [
        "# **SAMPLING TECHNIQUES:**\n",
        "### 1. SIMPLE RANDOM SAMPLING -EACH DATA POINT AHS AN EQUAL PROBABILITY OF BEING SELECTED\n"
      ],
      "metadata": {
        "id": "JyLmNfWs0EB3"
      }
    },
    {
      "cell_type": "code",
      "execution_count": 4,
      "metadata": {
        "colab": {
          "base_uri": "https://localhost:8080/"
        },
        "id": "rtnLomyozrkC",
        "outputId": "a16ad06f-6de3-45e3-f9cc-974e44c3715f"
      },
      "outputs": [
        {
          "output_type": "stream",
          "name": "stdout",
          "text": [
            "    ID  Age  Income  Target Cluster_Col\n",
            "83  84   27    4291       0           E\n",
            "53  54   21    8450       1           D\n",
            "70  71   35    7413       0           E\n",
            "45  46   26   13817       1           B\n",
            "44  45   47    8915       0           D\n"
          ]
        }
      ],
      "source": [
        "import pandas as pd\n",
        "data=pd.read_csv('sampling_dataset.csv')\n",
        "\n",
        "sampled_data=data.sample(frac=0.4,random_state=42)\n",
        "print(sampled_data.head())"
      ]
    },
    {
      "cell_type": "markdown",
      "source": [
        "##2. Stratified Sampling -ensures proportional representaion of diferent classes in sample\n",
        "population is divided into subgroups ie strata and samples are taken from each subgroup"
      ],
      "metadata": {
        "id": "PqTJCRww2JC0"
      }
    },
    {
      "cell_type": "code",
      "source": [
        "from sklearn.model_selection import train_test_split\n",
        "\n",
        "train,test=train_test_split(data,test_size=0.3,stratify=data['Target'],random_state=42)\n",
        "\n",
        "print(train['Target'].value_counts(normalize=True))\n",
        "print(test['Target'].value_counts(normalize=True))"
      ],
      "metadata": {
        "colab": {
          "base_uri": "https://localhost:8080/"
        },
        "id": "R5Um6zgG20BU",
        "outputId": "54459a91-13fa-4751-97c1-4b6206aa5bc6"
      },
      "execution_count": 6,
      "outputs": [
        {
          "output_type": "stream",
          "name": "stdout",
          "text": [
            "Target\n",
            "0    0.542857\n",
            "1    0.457143\n",
            "Name: proportion, dtype: float64\n",
            "Target\n",
            "0    0.533333\n",
            "1    0.466667\n",
            "Name: proportion, dtype: float64\n"
          ]
        }
      ]
    },
    {
      "cell_type": "markdown",
      "source": [
        "# 3. Systematic Sampling\n",
        "## select every kth individual  data point from the population"
      ],
      "metadata": {
        "id": "1w3SnoGl5eFX"
      }
    },
    {
      "cell_type": "code",
      "source": [
        "import numpy as np\n",
        "#select sampling interval\n",
        "interval=5\n",
        "systematic_sample=data.iloc[np.arange(0,len(data),interval)]\n",
        "print(systematic_sample.head())"
      ],
      "metadata": {
        "colab": {
          "base_uri": "https://localhost:8080/"
        },
        "id": "A1AJ_rgv5f8E",
        "outputId": "3136ea6d-888a-440a-9562-d40120d71627"
      },
      "execution_count": 10,
      "outputs": [
        {
          "output_type": "stream",
          "name": "stdout",
          "text": [
            "    ID  Age  Income  Target Cluster_Col\n",
            "0    1   58   10215       0           E\n",
            "5    6   58   13965       1           B\n",
            "10  11   43   13882       1           C\n",
            "15  16   41    9910       0           A\n",
            "20  21   21    8134       0           B\n"
          ]
        }
      ]
    },
    {
      "cell_type": "markdown",
      "source": [
        "# Cluster Sampling\n",
        "### Cluster Sampling is a probability sampling technique where the population is divided into clusters (groups), and then some clusters are randomly selected. All the members of the chosen clusters form the sample."
      ],
      "metadata": {
        "id": "L200P98n7w1X"
      }
    },
    {
      "cell_type": "code",
      "source": [
        "import random\n",
        "clusters=data['Cluster_Col'].unique()\n",
        "selected_clusters=random.sample(list(clusters),k=3)\n",
        "cluster_sample=data[data['Cluster_Col'].isin(selected_clusters)]\n",
        "print(cluster_sample.head())"
      ],
      "metadata": {
        "colab": {
          "base_uri": "https://localhost:8080/"
        },
        "id": "hnnElGQd73zc",
        "outputId": "dd3a1a0d-8a82-48da-c15c-51f255cd5d43"
      },
      "execution_count": 11,
      "outputs": [
        {
          "output_type": "stream",
          "name": "stdout",
          "text": [
            "   ID  Age  Income  Target Cluster_Col\n",
            "0   1   58   10215       0           E\n",
            "3   4   27   11996       1           B\n",
            "5   6   58   13965       1           B\n",
            "6   7   38   11154       1           B\n",
            "8   9   30    8056       1           B\n"
          ]
        }
      ]
    }
  ]
}